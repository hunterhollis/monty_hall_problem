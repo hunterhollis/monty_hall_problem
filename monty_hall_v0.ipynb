{
 "cells": [
  {
   "cell_type": "markdown",
   "metadata": {},
   "source": [
    "# The Monty Hall Problem\n",
    "background about what the problem is"
   ]
  },
  {
   "cell_type": "code",
   "execution_count": 1,
   "metadata": {},
   "outputs": [],
   "source": [
    "# set up dependencies\n",
    "from monty_hall import make_deal"
   ]
  },
  {
   "cell_type": "markdown",
   "metadata": {},
   "source": [
    "## Demonstration\n",
    "Run the following code block for an interactive demonstration of the game.\n",
    "\n",
    "The main function is called `make_deal()` in reference to another famous example of this game: the TV show *Let's Make A Deal*."
   ]
  },
  {
   "cell_type": "code",
   "execution_count": 2,
   "metadata": {},
   "outputs": [
    {
     "name": "stdout",
     "output_type": "stream",
     "text": [
      "\n",
      "Welcome! You find yourself facing the Monty Hall Problem.\n",
      "\n",
      "There are 3 doors in front of you. Behind one door is a car, but behind the other two there is a goat.\n",
      "If you pick the right door, you win the new car! Are you ready to play?\n",
      "\n",
      "Understandable. Goodbye.\n",
      "\n",
      "You can restart whenever you're ready. Thanks for playing along!\n",
      "\n"
     ]
    }
   ],
   "source": [
    "make_deal()"
   ]
  },
  {
   "cell_type": "markdown",
   "metadata": {},
   "source": [
    "## Analysis\n",
    "Let's break down what makes such a simple game into a confounding statistical question."
   ]
  },
  {
   "cell_type": "markdown",
   "metadata": {},
   "source": [
    "### Probabilties\n",
    "Break down game by simple probabilities and conditional probabilities"
   ]
  },
  {
   "cell_type": "markdown",
   "metadata": {},
   "source": [
    "### Simulation\n",
    "Now let's analyze the demonstrated likelihood of winning with each strategy."
   ]
  },
  {
   "cell_type": "code",
   "execution_count": 4,
   "metadata": {},
   "outputs": [
    {
     "data": {
      "text/plain": [
       "0.666599"
      ]
     },
     "execution_count": 4,
     "metadata": {},
     "output_type": "execute_result"
    }
   ],
   "source": [
    "prizes = []\n",
    "for _ in range(1000000):\n",
    "    prizes.append(make_deal(demo_mode=False, switch_decision='y'))\n",
    "perc = prizes.count('car') / 1000000\n",
    "perc"
   ]
  },
  {
   "cell_type": "markdown",
   "metadata": {},
   "source": [
    "I legitimately can't believe the switching method works 2/3 times. Absolutely unreal. TIHI."
   ]
  }
 ],
 "metadata": {
  "kernelspec": {
   "display_name": "hh",
   "language": "python",
   "name": "python3"
  },
  "language_info": {
   "codemirror_mode": {
    "name": "ipython",
    "version": 3
   },
   "file_extension": ".py",
   "mimetype": "text/x-python",
   "name": "python",
   "nbconvert_exporter": "python",
   "pygments_lexer": "ipython3",
   "version": "3.12.3"
  }
 },
 "nbformat": 4,
 "nbformat_minor": 2
}
