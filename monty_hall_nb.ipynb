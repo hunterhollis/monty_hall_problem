{
 "cells": [
  {
   "cell_type": "markdown",
   "metadata": {},
   "source": [
    "# The Monty Hall Problem\n",
    "\n",
    "The Monty Hall problem is a brain teaser and probability puzzle. Famously employed by the game show *Let's Make A Deal*, the problem is named after the show's host Monty Hall. However, there was also significant academic interest in the theoretical solutions to the problem starting in the 1970s.\n",
    "\n",
    "Here is a description of the problem, as posed in a Parade magazine column in 1990:\n",
    "\n",
    ">Suppose you're on a game show, and you're given the choice of three doors: Behind one door is a car; behind the others, goats. You pick a door, say No. 1, and the host, who knows what's behind the doors, opens another door, say No. 3, which has a goat. He then says to you, \"Do you want to pick door No. 2?\" Is it to your advantage to switch your choice?\n",
    "\n",
    "While it may be implied by the question, for additional clarification:\n",
    "\n",
    "1. The host must always open a door that was not selected by the contestant.\n",
    "2. The host must always open a door to reveal a goat and never the car.\n",
    "3. The host must always offer the chance to switch between the door chosen originally and the closed door remaining.\n",
    "\n",
    "This seemingly simple problem has confounded all kinds of people from game show contestants, to statisticians, to game theorists. After Marilyn vos Savant posited in her aforementioned magazine column that switching doors would lead to a 2/3 chance of success, approximately 10,000 readers—nearly 1,000 with PhDs—wrote to the magazine, largely contesting her attestation. Savant's response turned out to be the accepted solution.\n",
    "\n",
    "Even when confronted with written explanations, statistical probabilities, and mathematical proofs, people (including myself) struggled to accept that switching made such an impact on the chances of winning. Celebrated mathematician Paul Erdos consistently denied this solution until he was shown a computer simulation which demonstrated Savant's predicted result.\n",
    "\n",
    "My own struggles with this absurdly counterintuitive paradox have led me to the same conclusion: despite abundant theoretical evidence, I need a computer simulation to confirm this solution. This notebook shows a demonstration of the problem where you can make the decision for yourself, a brief overview of the statistical solutions, and a simulation of each strategy."
   ]
  },
  {
   "cell_type": "markdown",
   "metadata": {},
   "source": [
    "## Demonstration\n",
    "Run the following code blocks for an interactive demonstration of the game.\n",
    "\n",
    "The main function is called `make_deal()` in reference to the most famous example of this game: the TV show *Let's Make A Deal*."
   ]
  },
  {
   "cell_type": "code",
   "execution_count": 1,
   "metadata": {},
   "outputs": [
    {
     "name": "stdout",
     "output_type": "stream",
     "text": [
      "\n",
      "Welcome! You find yourself facing the Monty Hall Problem.\n",
      "\n",
      "There are 3 doors in front of you. Behind one door is a car, but behind the other two there is a goat.\n",
      "If you pick the right door, you win the new car! Are you ready to play?\n",
      "\n",
      "\n",
      "You've chosen Door #1.\n",
      "\n",
      "We're now going to reveal what's behind Door #3.\n",
      "...\n",
      "...\n",
      "...\n",
      "A goat!\n",
      "\n",
      "Now you have an opportunity.\n",
      "You can Stay and keep the prize behind Door #1, or you can Switch to Door #2.\n",
      "\n",
      "\n",
      "So you originally chose Door #1, but you've decided to SWITCH to Door #2.\n",
      "We've already revealed that there was a goat behind Door #3.\n",
      "Let's see if you made the right decision! We can now reveal that behind Door #2 is a...\n",
      "...\n",
      "...\n",
      "...\n",
      "\n",
      "CAR!\n",
      "\n",
      "You made the right decision to switch to Door #2. You won!\n",
      "\n"
     ]
    }
   ],
   "source": [
    "# set up dependencies\n",
    "from monty_hall import make_deal\n",
    "import matplotlib.pyplot as plt\n",
    "\n",
    "# run demo\n",
    "make_deal()"
   ]
  },
  {
   "cell_type": "markdown",
   "metadata": {},
   "source": [
    "## Analysis\n",
    "Let's break down what makes such a simple game into a confounding statistical question."
   ]
  },
  {
   "cell_type": "markdown",
   "metadata": {},
   "source": [
    "### Probabilties\n",
    "\n",
    "There are statistical solutions based on simple probability and conditional probability.\n",
    "\n",
    "It's important to reiterate the standard assumptions because any variation will change the math involved. They are:\n",
    "\n",
    "1. The host must always open a door that was not selected by the contestant.\n",
    "2. The host must always open a door to reveal a goat and never the car.\n",
    "3. The host must always offer the chance to switch between the door chosen originally and the closed door remaining.\n",
    "\n",
    "For the sake of demonstration, let's also assume that the contestant always chooses Door #1. The probabilities do not change based on the door chosen, so we'll assume a consistent selection for clarity."
   ]
  },
  {
   "cell_type": "markdown",
   "metadata": {},
   "source": [
    "#### Simple solution\n",
    "\n",
    "Savant posed the following in support of her simple solution. She argued that there are essentially only 3 possible scenarios and 6 possible outcomes (based on having the 2 options of switching or staying in each scenario).\n",
    "\n",
    "| Behind door #1 | Behind door #2 | Behind door #3 | Result if staying at door #1 | Result if switching to the door offered |\n",
    "|:-------------:|:-------------:|:-------------:|:----------------------------:|:---------------------------------------:|\n",
    "|      Goat     |      Goat     |      Car      |           Wins goat          |                 Wins car                |\n",
    "|      Goat     |      Car      |      Goat     |           Wins goat          |                 Wins car                |\n",
    "|      Car      |      Goat     |      Goat     |           Wins car           |                Wins goat                |\n",
    "\n",
    "The intuitive explanation is that if the contestant chose a goat (2/3 chance), then they will always win by switching because the host had to reveal the other goat, leaving only the car. If the contestant chose the car (1/3 chance), then they will always lose by switching.\n",
    "\n",
    "The chance of winning with each strategy is based solely on whether the contestant initially chose a goat or the car:\n",
    "\n",
    "- Switch: if the contestant initially chose a goat, then they win.\n",
    "- Stay: if the contestant initially chose a goat, then they lose.\n",
    "\n",
    "Given a 2/3 chance to initially choose a goat, the switching strategy gives a 2/3 chance to win, and the staying strategy gives a 2/3 chance to lose (1/3 chance to win). Therefore, Savant concluded that a switching strategy was optimal and resulted in a 2/3 chance of winning."
   ]
  },
  {
   "cell_type": "markdown",
   "metadata": {},
   "source": [
    "#### Conditional probability\n",
    "\n",
    "Another approach is the direct calculation of conditional probabilities based on which door the host opens.\n",
    "\n",
    "Here is a decision tree of the 4 possible scenarios which result from selecting door #1, varying by the location of the car and which door the host opens:\n",
    "\n",
    "<img src=\"visualizations/monty_hall_tree.jpeg\" alt_text=\"Decision Tree of Possible Outcomes\" width=\"640\" height=\"340\">\n",
    "\n",
    "We can calculate the conditional probability of winning by switching. Given the contestant initially picks door #1 and the host opens door #3, the winning chance is the probability for the event \"car is behind door #2 and host opens door #3\" divided by the probability for \"host opens door #3\".\n",
    "\n",
    "By referring to the decision tree, this calculation comes to $\\frac{\\frac{1}{3}}{\\frac{1}{3}+\\frac{1}{6}} = \\dfrac{2}{3}$.\n",
    "\n",
    "By symmetry, this 2/3 chance of winning by switching also holds when applied to the host opening door #2. Because of this calculation of conditional probability, the intuitive conclusion was reached that the simple solutions and conditional probability solutions were aligned.\n",
    "\n",
    "Note: there is also a proof by conditional probabilities using Bayes' theorem. More information on that can be found at the [Internet's Free Encyclopedia](https://en.wikipedia.org/wiki/Monty_Hall_problem#Bayes'_theorem)."
   ]
  },
  {
   "cell_type": "markdown",
   "metadata": {},
   "source": [
    "### Simulation\n",
    "\n",
    ">\"Wow, that's a lotta words... Too bad I'm not reading 'em.\" – Duke Nukem\n",
    "\n",
    "Enough math and logic—does it actually work? Let's analyze the *demonstrated* likelihood of winning with each strategy."
   ]
  },
  {
   "cell_type": "code",
   "execution_count": 2,
   "metadata": {},
   "outputs": [
    {
     "name": "stdout",
     "output_type": "stream",
     "text": [
      "Number of simulations run: 1,000,000\n",
      "Winning percentage when switching: 66.6%\n",
      "Winning percentage when staying: 33.4%\n"
     ]
    }
   ],
   "source": [
    "# set up simulations\n",
    "n_sim = 1000000\n",
    "print(f\"Number of simulations run: {n_sim:,}\")\n",
    "\n",
    "# simulate results when switching\n",
    "prizes_switch = []\n",
    "for _ in range(n_sim):\n",
    "    prizes_switch.append(make_deal(demo_mode=False, switch_decision='y'))\n",
    "perc_switch = prizes_switch.count('car') / n_sim * 100\n",
    "print(f\"Winning percentage when switching: {perc_switch:.1f}%\")\n",
    "\n",
    "# simulate results when staying\n",
    "prizes_stay = []\n",
    "for _ in range(n_sim):\n",
    "    prizes_stay.append(make_deal(demo_mode=False, switch_decision='n'))\n",
    "perc_stay = prizes_stay.count('car') / n_sim * 100\n",
    "print(f\"Winning percentage when staying: {perc_stay:.1f}%\")"
   ]
  },
  {
   "cell_type": "markdown",
   "metadata": {},
   "source": [
    "The simulations support the theory that switching gives a 2/3 chance of success and staying gives a 1/3 chance of success.\n",
    "\n",
    "The greater number of simulations run, the closer the winning percentages will get to 66.7% and 33.3%."
   ]
  },
  {
   "cell_type": "code",
   "execution_count": 3,
   "metadata": {},
   "outputs": [
    {
     "data": {
      "image/png": "[encoded data removed]",
      "text/plain": [
       "<Figure size 600x300 with 2 Axes>"
      ]
     },
     "metadata": {},
     "output_type": "display_data"
    }
   ],
   "source": [
    "# visualization data\n",
    "data_labels = ['Car', 'Goat']\n",
    "switch_values = [prizes_switch.count('car'), prizes_switch.count('goat')]\n",
    "stay_values = [prizes_stay.count('car'), prizes_stay.count('goat')]\n",
    "\n",
    "# style\n",
    "plt.style.use('seaborn-v0_8-colorblind')\n",
    "\n",
    "# create subplots\n",
    "fig, axs = plt.subplots(1, 2, figsize=(6, 3))\n",
    "\n",
    "# create switch chart\n",
    "axs[0].pie(switch_values, labels=data_labels, autopct='%1.1f%%')\n",
    "axs[0].set_title('Switch')\n",
    "\n",
    "# create stay chart\n",
    "axs[1].pie(stay_values, labels=data_labels, autopct='%1.1f%%')\n",
    "axs[1].set_title('Stay')\n",
    "\n",
    "# save and display\n",
    "plt.savefig('visualizations/simulation_results.png', bbox_inches='tight')\n",
    "plt.tight_layout()\n",
    "plt.show()"
   ]
  },
  {
   "cell_type": "markdown",
   "metadata": {},
   "source": [
    "## Conclusions\n",
    "\n",
    "Cognitive psychologist Massimo Piattelli Palmarini wrote:\n",
    ">\"No other statistical puzzle comes so close to fooling all the people all the time that even Nobel physicists systematically give the wrong answer, and that they insist on it, and they are ready to berate in print those who propose the right answer\"\n",
    "\n",
    "So why do people so consistently fail to grasp a problem that apparently [doesn't even stump pigeons](https://pmc.ncbi.nlm.nih.gov/articles/PMC3086893/)? There are a few psychological phenomena which may be at play:\n",
    "\n",
    "1. Endowment effect—people tend to overvalue what is already \"owned\".\n",
    "2. Status quo bias—people prefer to preserve a choice they already made.\n",
    "3. Errors of omission versus errors of commission—people prefer to make errors by inaction (Stay) rather than action (Switch).\n",
    "\n",
    "There are also explanations which focus on the real-world application of the problem. When actually posed in a game show, the contestant may feel like the host is trying to trick them out of winning. All of the standard assumptions aren't laid out, so they may assume the host would only open a door as a ploy to entice them to give up a door with the car.\n",
    "\n",
    "However, repeatedly, even presented with the standard assumptions and no real stakes, people from all walks of life insist that switching makes no difference. As we've seen here through intuitive solutions, conditional probabilties, and simulations: the path less traveled by makes all the difference.\n",
    "\n",
    "I hope this notebook has been as helpful for you in understanding this infamous problem as it has been for me. For more information about the history, proofs, and variations of the Monty Hall problem, I would highly recommend the excellent [Wikipedia page](https://en.wikipedia.org/wiki/Monty_Hall_problem)."
   ]
  }
 ],
 "metadata": {
  "kernelspec": {
   "display_name": "hh",
   "language": "python",
   "name": "python3"
  },
  "language_info": {
   "codemirror_mode": {
    "name": "ipython",
    "version": 3
   },
   "file_extension": ".py",
   "mimetype": "text/x-python",
   "name": "python",
   "nbconvert_exporter": "python",
   "pygments_lexer": "ipython3",
   "version": "3.12.3"
  }
 },
 "nbformat": 4,
 "nbformat_minor": 2
}
